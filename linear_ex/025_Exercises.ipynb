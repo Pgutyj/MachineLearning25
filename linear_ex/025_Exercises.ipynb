{
 "cells": [
  {
   "cell_type": "markdown",
   "metadata": {},
   "source": [
    "# Exercises\n",
    "\n",
    "There are three exercises in this notebook:\n",
    "\n",
    "1. Use the cross-validation method to test the linear regression with different $\\alpha$ values, at least three.\n",
    "2. Implement a SGD method that will train the Lasso regression for 10 epochs.\n",
    "3. Extend the Fisher's classifier to work with two features. Use the class as the $y$."
   ]
  },
  {
   "cell_type": "markdown",
   "metadata": {},
   "source": [
    "## 1. Cross-validation linear regression\n",
    "\n",
    "You need to change the variable ``alpha`` to be a list of alphas. Next do a loop and finally compare the results."
   ]
  },
  {
   "cell_type": "code",
   "execution_count": 3,
   "metadata": {},
   "outputs": [],
   "source": [
    "import numpy as np\n",
    "import pandas as pd\n",
    "import matplotlib as plt"
   ]
  },
  {
   "cell_type": "code",
   "execution_count": 214,
   "metadata": {},
   "outputs": [
    {
     "name": "stdout",
     "output_type": "stream",
     "text": [
      "alpha:  0.1 mse:  302.4388998726664\n",
      "alpha:  0.5 mse:  360.08457451259704\n",
      "alpha:  1 mse:  378.97459933754067\n",
      "alpha:  5 mse:  399.1822159308943\n",
      "lower alpha value contributes to more lesser differences between predicitons and y values\n"
     ]
    }
   ],
   "source": [
    "x = np.array([188, 181, 197, 168, 167, 187, 178, 194, 140, 176, 168, 192, 173, 142, 176]).reshape(-1, 1).reshape(15,1)\n",
    "y = np.array([141, 106, 149, 59, 79, 136, 65, 136, 52, 87, 115, 140, 82, 69, 121]).reshape(-1, 1).reshape(15,1)\n",
    "\n",
    "x = np.asmatrix(np.c_[np.ones((15,1)),x])\n",
    "I = np.identity(2)\n",
    "alpha = [0.1, 0.5, 1, 5] # change here\n",
    "\n",
    "# add 1-3 line of code here\n",
    "for i in range(5):\n",
    "    idx = np.random.permutation(len(x))\n",
    "    split = int(0.33 * len(x))\n",
    "    x_test, y_test = x[idx[:split]], y[idx[:split]]\n",
    "    x_train, y_train = x[idx[split:]], y[idx[split:]]\n",
    "\n",
    "# add 1-3 lines to compare the results\n",
    "for a in alpha:\n",
    "    w = np.linalg.inv(x.T*x + a * I)*x.T*y\n",
    "    w=w.ravel()\n",
    "    y_pred = np.dot(w,x_test.T)\n",
    "    mse = np.mean(np.square(y_test.T - y_pred))\n",
    "    print(\"alpha: \", a, \"mse: \", mse)\n",
    "print(\"lower alpha value contributes to more lesser differences between predicitons and y values\")"
   ]
  },
  {
   "cell_type": "markdown",
   "metadata": {},
   "source": [
    "## 2. Implement based on the Ridge regression example, the Lasso regression.\n",
    "\n",
    "Please implement the SGD method and compare the results with the sklearn Lasso regression results. "
   ]
  },
  {
   "cell_type": "code",
   "execution_count": 222,
   "metadata": {},
   "outputs": [],
   "source": [
    "def sgd(x, y, alpha, lr, epochs):\n",
    "    w = np.zeros(2)\n",
    "    for _ in range(epochs):\n",
    "        for i in range(len(x)):\n",
    "            y_pred = x[i].dot(w)\n",
    "            error = y_pred - y[i]\n",
    "            grad = 2.0 * error * x[i]\n",
    "            for j in range(2):\n",
    "                if w[j] > 0:\n",
    "                    grad[j] += alpha\n",
    "                elif w[j] < 0:\n",
    "                    grad[j] -= alpha\n",
    "                else:\n",
    "                    pass\n",
    "            w = w - lr * grad\n",
    "    return w"
   ]
  },
  {
   "cell_type": "code",
   "execution_count": 223,
   "metadata": {},
   "outputs": [
    {
     "ename": "ValueError",
     "evalue": "shapes (1,2) and (1,2) not aligned: 2 (dim 1) != 1 (dim 0)",
     "output_type": "error",
     "traceback": [
      "\u001b[1;31m---------------------------------------------------------------------------\u001b[0m",
      "\u001b[1;31mValueError\u001b[0m                                Traceback (most recent call last)",
      "Cell \u001b[1;32mIn[223], line 9\u001b[0m\n\u001b[0;32m      6\u001b[0m I \u001b[38;5;241m=\u001b[39m np\u001b[38;5;241m.\u001b[39midentity(\u001b[38;5;241m2\u001b[39m)\n\u001b[0;32m      7\u001b[0m alpha \u001b[38;5;241m=\u001b[39m \u001b[38;5;241m0.1\u001b[39m \n\u001b[1;32m----> 9\u001b[0m w \u001b[38;5;241m=\u001b[39m \u001b[43msgd\u001b[49m\u001b[43m(\u001b[49m\u001b[43mx\u001b[49m\u001b[43m,\u001b[49m\u001b[43m \u001b[49m\u001b[43my\u001b[49m\u001b[43m,\u001b[49m\u001b[43m \u001b[49m\u001b[43malpha\u001b[49m\u001b[43m,\u001b[49m\u001b[43m \u001b[49m\u001b[38;5;241;43m0.0001\u001b[39;49m\u001b[43m,\u001b[49m\u001b[43m \u001b[49m\u001b[38;5;241;43m10\u001b[39;49m\u001b[43m)\u001b[49m \u001b[38;5;66;03m# update this line\u001b[39;00m\n\u001b[0;32m     10\u001b[0m w\u001b[38;5;241m=\u001b[39mw\u001b[38;5;241m.\u001b[39mravel()\n",
      "Cell \u001b[1;32mIn[222], line 5\u001b[0m, in \u001b[0;36msgd\u001b[1;34m(x, y, alpha, lr, epochs)\u001b[0m\n\u001b[0;32m      3\u001b[0m \u001b[38;5;28;01mfor\u001b[39;00m _ \u001b[38;5;129;01min\u001b[39;00m \u001b[38;5;28mrange\u001b[39m(epochs):\n\u001b[0;32m      4\u001b[0m     \u001b[38;5;28;01mfor\u001b[39;00m i \u001b[38;5;129;01min\u001b[39;00m \u001b[38;5;28mrange\u001b[39m(\u001b[38;5;28mlen\u001b[39m(x)):\n\u001b[1;32m----> 5\u001b[0m         y_pred \u001b[38;5;241m=\u001b[39m \u001b[43mx\u001b[49m\u001b[43m[\u001b[49m\u001b[43mi\u001b[49m\u001b[43m]\u001b[49m\u001b[38;5;241;43m.\u001b[39;49m\u001b[43mdot\u001b[49m\u001b[43m(\u001b[49m\u001b[43mw\u001b[49m\u001b[43m)\u001b[49m\n\u001b[0;32m      6\u001b[0m         error \u001b[38;5;241m=\u001b[39m y_pred \u001b[38;5;241m-\u001b[39m y[i]\n\u001b[0;32m      7\u001b[0m         grad \u001b[38;5;241m=\u001b[39m \u001b[38;5;241m2.0\u001b[39m \u001b[38;5;241m*\u001b[39m error \u001b[38;5;241m*\u001b[39m x[i]\n",
      "\u001b[1;31mValueError\u001b[0m: shapes (1,2) and (1,2) not aligned: 2 (dim 1) != 1 (dim 0)"
     ]
    }
   ],
   "source": [
    "x = np.array([188, 181, 197, 168, 167, 187, 178, 194, 140, 176, 168, 192, 173, 142, 176]).reshape(-1, 1).reshape(15,1)\n",
    "y = np.array([141, 106, 149, 59, 79, 136, 65, 136, 52, 87, 115, 140, 82, 69, 121]).reshape(-1, 1).reshape(15,1)\n",
    "\n",
    "x = np.asmatrix(np.c_[np.ones((15,1)),x])\n",
    "\n",
    "I = np.identity(2)\n",
    "alpha = 0.1 \n",
    "\n",
    "w = sgd(x, y, alpha, 0.0001, 10) # update this line\n",
    "w=w.ravel()\n"
   ]
  },
  {
   "cell_type": "markdown",
   "metadata": {},
   "source": [
    "## 3. Extend the Fisher's classifier\n",
    "\n",
    "Please extend the targets of the ``iris_data`` variable and use it as the $y$."
   ]
  },
  {
   "cell_type": "code",
   "execution_count": 220,
   "metadata": {},
   "outputs": [
    {
     "name": "stdout",
     "output_type": "stream",
     "text": [
      "[ 0.17150435  0.3434615   0.06895097  0.0592579   0.03424908  0.13680246\n",
      " -0.1320854   0.16181128  0.03987176  0.27968041  0.26436465  0.01486294\n",
      "  0.26998734 -0.09738351  0.36691803  0.03831947  0.13680246  0.17150435\n",
      "  0.42100606 -0.01983895  0.45570795  0.04394215 -0.2596476   0.29906654\n",
      "  0.01486294  0.41693567  0.16181128  0.24497852  0.30875961  0.06895097\n",
      "  0.20620624  0.45570795 -0.13770808  0.01893333  0.27968041  0.28937347\n",
      "  0.46540102 -0.03922509 -0.02390934  0.23528545  0.09803018  0.49603252\n",
      " -0.15147154  0.09803018 -0.01983895  0.26998734 -0.01983895 -0.0045232\n",
      "  0.19089049  0.22559238  1.75885685  1.31801184  1.74916378  1.23077421\n",
      "  1.6466104   1.05881705  1.18075657  0.7261481   1.65630347  0.75522731\n",
      "  1.05474666  1.07820319  1.66192615  1.28893263  0.92156179  1.60221544\n",
      "  0.85778069  1.19607232  1.80887449  1.17668618  0.95064099  1.35271373\n",
      "  1.69100536  1.35271373  1.50935514  1.59252237  1.86703291  1.66599654\n",
      "  1.21545846  1.18637925  1.16699311  1.16699311  1.19607232  1.34302066\n",
      "  0.71083235  0.89655296  1.60221544  1.81856756  0.85778069  1.10321201\n",
      "  1.03943091  1.22515153  1.25985342  0.86340337  1.04912398  0.93125485\n",
      "  0.99503595  1.3624068   0.80931534  1.05881705  1.18075657  1.19607232\n",
      "  1.95989322  1.43588097  1.51904821  2.32726406  0.662367    2.17062266\n",
      "  1.98490204  1.65068079  1.39148601  1.63691733  1.73947071  1.25016035\n",
      "  1.13229122  1.31801184  1.51904821  1.89048944  2.65586263  1.66192615\n",
      "  1.68538268  0.98534288  2.52830043  1.56344317  1.47465325  1.90580519\n",
      "  1.4261879   1.22515153  1.57313623  2.03336739  2.30787792  2.03743778\n",
      "  1.57313623  1.49966207  1.48027593  2.40073823  1.11697547  1.38179294\n",
      "  1.15167736  1.74916378  1.60221544  1.74916378  1.19607232  1.61190851\n",
      "  1.47465325  1.66599654  1.69100536  1.51904821  1.0435013   1.07820319]\n"
     ]
    }
   ],
   "source": [
    "import pandas as pd\n",
    "import numpy as np\n",
    "import matplotlib.pyplot as plt\n",
    "from sklearn.datasets import load_iris\n",
    "\n",
    "iris_data = load_iris()\n",
    "iris_df = pd.DataFrame(iris_data.data,columns=iris_data.feature_names)\n",
    "\n",
    "# x = iris_df['sepal width (cm)'].values # change here\n",
    "# y = iris_df['sepal length (cm)'].values # change here\n",
    "x1 = iris_df['sepal width (cm)'].values\n",
    "x2 = iris_df['sepal length (cm)'].values\n",
    "y = iris_data.target\n",
    "\n",
    "dataset_size = np.size(x1)\n",
    "mean_x1, mean_x2, mean_y = np.mean(x1), np.mean(x2), np.mean(y)\n",
    "\n",
    "SS_x1y = np.sum(x1 * y) - dataset_size * mean_x1 * mean_y\n",
    "SS_x2y = np.sum(x2 * y) - dataset_size * mean_x2 * mean_y\n",
    "SS_x1x1 = np.sum(x1 * x1) - dataset_size * mean_x1 * mean_x1\n",
    "SS_x2x2 = np.sum(x2 * x2) - dataset_size * mean_x2 * mean_x2\n",
    "SS_x1x2 = np.sum(x1 * x2) - dataset_size * mean_x1 * mean_x2\n",
    "\n",
    "A = np.array([[SS_x1x1, SS_x1x2],\n",
    "              [SS_x1x2, SS_x2x2]])\n",
    "B = np.array([SS_x1y, SS_x2y])\n",
    "[a1, a2] = np.linalg.inv(A).dot(B)\n",
    "\n",
    "b = mean_y - a1 * mean_x1 - a2 * mean_x2\n",
    "y_pred = a1 * x1 + a2 * x2 + b\n",
    "print(y_pred)"
   ]
  },
  {
   "cell_type": "code",
   "execution_count": null,
   "metadata": {},
   "outputs": [],
   "source": []
  }
 ],
 "metadata": {
  "kernelspec": {
   "display_name": "Python 3 (ipykernel)",
   "language": "python",
   "name": "python3"
  },
  "language_info": {
   "codemirror_mode": {
    "name": "ipython",
    "version": 3
   },
   "file_extension": ".py",
   "mimetype": "text/x-python",
   "name": "python",
   "nbconvert_exporter": "python",
   "pygments_lexer": "ipython3",
   "version": "3.9.7"
  }
 },
 "nbformat": 4,
 "nbformat_minor": 4
}
